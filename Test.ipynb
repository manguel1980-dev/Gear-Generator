{
    "cells": [
        {
            "cell_type": "code",
            "execution_count": 2,
            "source": [
                "# Notebook to make test \r\n",
                "\r\n",
                "from math import sin, radians\r\n",
                "print(sin(radians(45)))"
            ],
            "outputs": [
                {
                    "output_type": "stream",
                    "name": "stdout",
                    "text": [
                        "0.7071067811865476\n"
                    ]
                }
            ],
            "metadata": {}
        }
    ],
    "metadata": {
        "orig_nbformat": 4,
        "language_info": {
            "name": "python",
            "version": "3.9.5",
            "mimetype": "text/x-python",
            "codemirror_mode": {
                "name": "ipython",
                "version": 3
            },
            "pygments_lexer": "ipython3",
            "nbconvert_exporter": "python",
            "file_extension": ".py"
        },
        "kernelspec": {
            "name": "python3",
            "display_name": "Python 3.9.5 64-bit ('python-3.9.5.amd64')"
        },
        "interpreter": {
            "hash": "6d481dd3475602daaab04a35fc657ce332e29b85dcf31dd94441b2eeb09e808f"
        }
    },
    "nbformat": 4,
    "nbformat_minor": 2
}